{
 "cells": [
  {
   "cell_type": "code",
   "execution_count": 3,
   "metadata": {},
   "outputs": [],
   "source": [
    "from azure.core.exceptions import ResourceExistsError\n",
    "from concurrent.futures import ThreadPoolExecutor, as_completed\n",
    "import os\n",
    "import pandas as pd\n",
    "import traceback\n",
    "import yaml\n",
    "\n",
    "import sys\n",
    "from pathlib import Path\n",
    "sys.path.append(str(Path(os.getcwd()).parent) + '\\src')\n",
    "from adt_sdk import ADTInstance\n",
    "from utils.utils_adt import get_schema_into_dfs, transform_to_json, create_patch_update\n"
   ]
  },
  {
   "cell_type": "code",
   "execution_count": 4,
   "metadata": {},
   "outputs": [],
   "source": [
    "%reload_ext autoreload\n",
    "%autoreload 2"
   ]
  },
  {
   "cell_type": "code",
   "execution_count": 5,
   "metadata": {},
   "outputs": [],
   "source": [
    "pd.set_option('display.max_colwidth', 5000)"
   ]
  },
  {
   "cell_type": "markdown",
   "metadata": {},
   "source": [
    "# Introduction\n",
    "\n",
    "This notebook runs the script to use synthetic data to:\n",
    "- create ADT models, twins and relationships.\n",
    "- update the twins for telemetry stream times-series data from the synthetic data.\n",
    "- run sample example queries.\n"
   ]
  },
  {
   "cell_type": "markdown",
   "metadata": {},
   "source": [
    "# Credential and initialize DT Client\n",
    "\n",
    "This section serves to create a digital twin connection to an already provisioned ADT instance, denoted by its URL:"
   ]
  },
  {
   "cell_type": "code",
   "execution_count": 6,
   "metadata": {},
   "outputs": [],
   "source": [
    "# Make sure the instance is set up supporting the SourceTimeStamp feature\n",
    "ADT_URL = \"yizhu2-dhsts-ppe.api.neu.pp.azuredigitaltwins-ppe.net\""
   ]
  },
  {
   "cell_type": "markdown",
   "metadata": {},
   "source": [
    "The class `ADTInstance` provides a list of the available functions related to Azure Digital Twins in the Azure Python SDK. See https://pypi.org/project/azure-digitaltwins-core/ for more details. \n",
    "\n",
    "The initialization of this class runs authentication through CLI credential and creates a new ditigal twins client."
   ]
  },
  {
   "cell_type": "code",
   "execution_count": null,
   "metadata": {},
   "outputs": [],
   "source": [
    "ADTInstance1 = ADTInstance(ADT_URL, logging_enable=False)"
   ]
  },
  {
   "cell_type": "markdown",
   "metadata": {},
   "source": [
    "Note: for illustration, we keep `logging_enable=True` (which outputs the ADT API request info) only in the \"Create ADT models\" section. "
   ]
  },
  {
   "cell_type": "markdown",
   "metadata": {},
   "source": [
    "# Load synthetic data\n",
    "\n",
    "Synthetic data consists of synthetic telemetry time-series signals (current in Amperes) from an imaginary IoT network of connected machines. Concretely, we load the following data:\n",
    "- ADT models' json files, where the model jsons are in the appropriate schema for ADT, according to DTDL. See the documentation for DTDL here: https://github.com/Azure/opendigitaltwins-dtdl/blob/master/DTDL/v2/dtdlv2.md\n",
    "- A topology file, which contains the relationships of which machine is connected to which. It contains `relationshipName`, `sourceId`, `targetId` as columns.\n",
    "- A file for twins' namings and initial properties (keys and corresponding values). It contains `Id`, `ModelId`, `Timestamp`, `Value` as columns.\n",
    "- A file for the IoT telemetry signals to be used for the twin property updates. It contains `Id`, `Key`, `Timestamp`, `Value` as columns.\n"
   ]
  },
  {
   "cell_type": "code",
   "execution_count": 8,
   "metadata": {},
   "outputs": [],
   "source": [
    "models_folder = \"../data/models_json\"\n",
    "topology_file = \"../data/synthetic_data/topology_continuous_010121_020121.csv\"\n",
    "inittwin_file = \"../data/synthetic_data/initial_twins.csv\"\n",
    "updatetwin_file = \"../data/synthetic_data/update_stream_continuous_010121_020121.csv\""
   ]
  },
  {
   "cell_type": "code",
   "execution_count": 9,
   "metadata": {},
   "outputs": [],
   "source": [
    "df_topology = pd.read_csv(topology_file)\n",
    "df_inittwins = pd.read_csv(inittwin_file)\n",
    "df_updatetwins = pd.read_csv(updatetwin_file)"
   ]
  },
  {
   "cell_type": "markdown",
   "metadata": {},
   "source": [
    "# Create ADT models\n",
    "\n",
    "First, we can check the list of existing ADT models already in out ADT instance."
   ]
  },
  {
   "cell_type": "code",
   "execution_count": null,
   "metadata": {},
   "outputs": [],
   "source": [
    "# Check models already in ADT instance\n",
    "ADTInstance1.list_models()"
   ]
  },
  {
   "cell_type": "markdown",
   "metadata": {},
   "source": [
    "Then, if the some of the models you want to add, already exists, make sure to delete the ADT model(s) before adding the models, using the model json files in the `models_folder`. "
   ]
  },
  {
   "cell_type": "code",
   "execution_count": null,
   "metadata": {},
   "outputs": [],
   "source": [
    "#Optional: ensure ADT models don't exist beofre creating, else error\n",
    "# model_id=\"dtmi:syntheticfactory:machine;1\" # 'dtmi:syntheticfactory:machinesimple;1'\n",
    "# ADTInstance1.delete_model(model_id)"
   ]
  },
  {
   "cell_type": "code",
   "execution_count": 11,
   "metadata": {},
   "outputs": [
    {
     "name": "stdout",
     "output_type": "stream",
     "text": [
      "ModelId might already exist, Error message: Some of the model ids already exist: dtmi:syntheticfactory:feedmachine2;1, dtmi:syntheticfactory:sourcemachine2;1. Use Model_List API to view models that already exist. See the Swagger example (https://aka.ms/ModelListSwSmpl).\n"
     ]
    }
   ],
   "source": [
    "# Create models available in models_folder\n",
    "list_models=[]\n",
    "for i in os.listdir(models_folder):\n",
    "    model_json = yaml.safe_load(open(os.path.join(models_folder,i)))\n",
    "    list_models.append(model_json)\n",
    "try:\n",
    "    ADTInstance1.create_models(list_models)\n",
    "except ResourceExistsError as e:\n",
    "    print('ModelId might already exist, Error message: {}'.format(e.error.message))\n",
    "except Exception as e:\n",
    "    raise e"
   ]
  },
  {
   "cell_type": "markdown",
   "metadata": {},
   "source": [
    "To verify that our models were indeed added to our ADT instance, we run:"
   ]
  },
  {
   "cell_type": "code",
   "execution_count": 14,
   "metadata": {},
   "outputs": [
    {
     "name": "stdout",
     "output_type": "stream",
     "text": [
      "\n",
      " model  0\n",
      "{'additional_properties': {}, 'display_name': {'en': 'feedmachine'}, 'description': {'en': 'a smaller source node, i.e. smaller machine, which is connected with machines upstream (and potentially downstream) in our synthetic factory'}, 'id': 'dtmi:syntheticfactory:feedmachine2;1', 'upload_time': datetime.datetime(2022, 2, 2, 17, 13, 14, 437191, tzinfo=<FixedOffset '+00:00'>), 'decommissioned': False, 'model': None}\n",
      "\n",
      " model  1\n",
      "{'additional_properties': {}, 'display_name': {'en': 'sourcemachine'}, 'description': {'en': 'a big source node, i.e. big machine, which receives the supply in our synthetic factory, where machines are linked in the same electric circuit'}, 'id': 'dtmi:syntheticfactory:sourcemachine2;1', 'upload_time': datetime.datetime(2022, 2, 2, 17, 13, 14, 437271, tzinfo=<FixedOffset '+00:00'>), 'decommissioned': False, 'model': None}\n"
     ]
    }
   ],
   "source": [
    "# Check models now in ADT instance\n",
    "ADTInstance1.list_models()"
   ]
  },
  {
   "cell_type": "markdown",
   "metadata": {},
   "source": [
    "We now run the following transformations locally to be able to access the model schema later on."
   ]
  },
  {
   "cell_type": "code",
   "execution_count": 12,
   "metadata": {},
   "outputs": [],
   "source": [
    "# Add schema to df_inittwins and df_updatetwins\n",
    "df_inittwins, df_updatetwins = get_schema_into_dfs(list_models, df_inittwins, df_updatetwins)"
   ]
  },
  {
   "cell_type": "code",
   "execution_count": 22,
   "metadata": {
    "scrolled": true
   },
   "outputs": [
    {
     "data": {
      "text/html": [
       "<div>\n",
       "<style scoped>\n",
       "    .dataframe tbody tr th:only-of-type {\n",
       "        vertical-align: middle;\n",
       "    }\n",
       "\n",
       "    .dataframe tbody tr th {\n",
       "        vertical-align: top;\n",
       "    }\n",
       "\n",
       "    .dataframe thead th {\n",
       "        text-align: right;\n",
       "    }\n",
       "</style>\n",
       "<table border=\"1\" class=\"dataframe\">\n",
       "  <thead>\n",
       "    <tr style=\"text-align: right;\">\n",
       "      <th></th>\n",
       "      <th>Id</th>\n",
       "      <th>ModelId</th>\n",
       "      <th>Key</th>\n",
       "      <th>Timestamp</th>\n",
       "      <th>Value</th>\n",
       "      <th>Schema</th>\n",
       "    </tr>\n",
       "  </thead>\n",
       "  <tbody>\n",
       "    <tr>\n",
       "      <th>0</th>\n",
       "      <td>F</td>\n",
       "      <td>dtmi:syntheticfactory:feedmachine2;1</td>\n",
       "      <td>Amps_Ib</td>\n",
       "      <td>2020-12-31 23:59:59.104357</td>\n",
       "      <td>0.0</td>\n",
       "      <td>double</td>\n",
       "    </tr>\n",
       "    <tr>\n",
       "      <th>1</th>\n",
       "      <td>E</td>\n",
       "      <td>dtmi:syntheticfactory:feedmachine2;1</td>\n",
       "      <td>Amps_Ib</td>\n",
       "      <td>2020-12-31 23:59:59.240801</td>\n",
       "      <td>0.0</td>\n",
       "      <td>double</td>\n",
       "    </tr>\n",
       "    <tr>\n",
       "      <th>2</th>\n",
       "      <td>F</td>\n",
       "      <td>dtmi:syntheticfactory:feedmachine2;1</td>\n",
       "      <td>Amps_Ia</td>\n",
       "      <td>2020-12-31 23:59:59.260915</td>\n",
       "      <td>0.0</td>\n",
       "      <td>double</td>\n",
       "    </tr>\n",
       "    <tr>\n",
       "      <th>3</th>\n",
       "      <td>D</td>\n",
       "      <td>dtmi:syntheticfactory:feedmachine2;1</td>\n",
       "      <td>Amps_Ia</td>\n",
       "      <td>2020-12-31 23:59:59.283257</td>\n",
       "      <td>0.0</td>\n",
       "      <td>double</td>\n",
       "    </tr>\n",
       "    <tr>\n",
       "      <th>4</th>\n",
       "      <td>E</td>\n",
       "      <td>dtmi:syntheticfactory:feedmachine2;1</td>\n",
       "      <td>PowerMeter</td>\n",
       "      <td>2020-12-31 23:59:59.307807</td>\n",
       "      <td>0.0</td>\n",
       "      <td>double</td>\n",
       "    </tr>\n",
       "  </tbody>\n",
       "</table>\n",
       "</div>"
      ],
      "text/plain": [
       "  Id                               ModelId         Key  \\\n",
       "0  F  dtmi:syntheticfactory:feedmachine2;1     Amps_Ib   \n",
       "1  E  dtmi:syntheticfactory:feedmachine2;1     Amps_Ib   \n",
       "2  F  dtmi:syntheticfactory:feedmachine2;1     Amps_Ia   \n",
       "3  D  dtmi:syntheticfactory:feedmachine2;1     Amps_Ia   \n",
       "4  E  dtmi:syntheticfactory:feedmachine2;1  PowerMeter   \n",
       "\n",
       "                    Timestamp Value  Schema  \n",
       "0  2020-12-31 23:59:59.104357   0.0  double  \n",
       "1  2020-12-31 23:59:59.240801   0.0  double  \n",
       "2  2020-12-31 23:59:59.260915   0.0  double  \n",
       "3  2020-12-31 23:59:59.283257   0.0  double  \n",
       "4  2020-12-31 23:59:59.307807   0.0  double  "
      ]
     },
     "execution_count": 22,
     "metadata": {},
     "output_type": "execute_result"
    }
   ],
   "source": [
    "df_inittwins.head()"
   ]
  },
  {
   "cell_type": "code",
   "execution_count": 23,
   "metadata": {},
   "outputs": [
    {
     "data": {
      "text/html": [
       "<div>\n",
       "<style scoped>\n",
       "    .dataframe tbody tr th:only-of-type {\n",
       "        vertical-align: middle;\n",
       "    }\n",
       "\n",
       "    .dataframe tbody tr th {\n",
       "        vertical-align: top;\n",
       "    }\n",
       "\n",
       "    .dataframe thead th {\n",
       "        text-align: right;\n",
       "    }\n",
       "</style>\n",
       "<table border=\"1\" class=\"dataframe\">\n",
       "  <thead>\n",
       "    <tr style=\"text-align: right;\">\n",
       "      <th></th>\n",
       "      <th>Id</th>\n",
       "      <th>ModelId</th>\n",
       "      <th>Key</th>\n",
       "      <th>Timestamp</th>\n",
       "      <th>Value</th>\n",
       "      <th>Schema</th>\n",
       "    </tr>\n",
       "  </thead>\n",
       "  <tbody>\n",
       "    <tr>\n",
       "      <th>0</th>\n",
       "      <td>A</td>\n",
       "      <td>dtmi:syntheticfactory:sourcemachine;1</td>\n",
       "      <td>Status</td>\n",
       "      <td>2020-12-31 23:59:59.459645</td>\n",
       "      <td>0</td>\n",
       "      <td>integer</td>\n",
       "    </tr>\n",
       "    <tr>\n",
       "      <th>1</th>\n",
       "      <td>B</td>\n",
       "      <td>dtmi:syntheticfactory:sourcemachine;1</td>\n",
       "      <td>Status</td>\n",
       "      <td>2020-12-31 23:59:59.810621</td>\n",
       "      <td>0</td>\n",
       "      <td>integer</td>\n",
       "    </tr>\n",
       "    <tr>\n",
       "      <th>2</th>\n",
       "      <td>A</td>\n",
       "      <td>dtmi:syntheticfactory:sourcemachine;1</td>\n",
       "      <td>Status</td>\n",
       "      <td>2021-01-01 00:04:59.706976</td>\n",
       "      <td>0</td>\n",
       "      <td>integer</td>\n",
       "    </tr>\n",
       "    <tr>\n",
       "      <th>3</th>\n",
       "      <td>B</td>\n",
       "      <td>dtmi:syntheticfactory:sourcemachine;1</td>\n",
       "      <td>Status</td>\n",
       "      <td>2021-01-01 00:04:59.964369</td>\n",
       "      <td>0</td>\n",
       "      <td>integer</td>\n",
       "    </tr>\n",
       "    <tr>\n",
       "      <th>4</th>\n",
       "      <td>A</td>\n",
       "      <td>dtmi:syntheticfactory:sourcemachine;1</td>\n",
       "      <td>Status</td>\n",
       "      <td>2021-01-01 00:09:59.219233</td>\n",
       "      <td>0</td>\n",
       "      <td>integer</td>\n",
       "    </tr>\n",
       "  </tbody>\n",
       "</table>\n",
       "</div>"
      ],
      "text/plain": [
       "  Id                                ModelId     Key  \\\n",
       "0  A  dtmi:syntheticfactory:sourcemachine;1  Status   \n",
       "1  B  dtmi:syntheticfactory:sourcemachine;1  Status   \n",
       "2  A  dtmi:syntheticfactory:sourcemachine;1  Status   \n",
       "3  B  dtmi:syntheticfactory:sourcemachine;1  Status   \n",
       "4  A  dtmi:syntheticfactory:sourcemachine;1  Status   \n",
       "\n",
       "                    Timestamp  Value   Schema  \n",
       "0  2020-12-31 23:59:59.459645      0  integer  \n",
       "1  2020-12-31 23:59:59.810621      0  integer  \n",
       "2  2021-01-01 00:04:59.706976      0  integer  \n",
       "3  2021-01-01 00:04:59.964369      0  integer  \n",
       "4  2021-01-01 00:09:59.219233      0  integer  "
      ]
     },
     "execution_count": 23,
     "metadata": {},
     "output_type": "execute_result"
    }
   ],
   "source": [
    "df_updatetwins.head()"
   ]
  },
  {
   "cell_type": "markdown",
   "metadata": {},
   "source": [
    "# Create ADT twins with properties\n",
    "\n",
    "To create ADT twins, we need to define the json to initialize the twins with or without default properties, as defined in `df_inittwins`, and according to the twins' DTDL model definitions. "
   ]
  },
  {
   "cell_type": "code",
   "execution_count": null,
   "metadata": {
    "scrolled": true
   },
   "outputs": [],
   "source": [
    "#Optional: ensure ADT twins don't exist beofre creating, else error\n",
    "#list_twin_ids=[]\n",
    "# for twin_i in set(list_twin_ids):\n",
    "#     ADTInstance1.delete_digital_twin(twin_i)"
   ]
  },
  {
   "cell_type": "code",
   "execution_count": 26,
   "metadata": {
    "scrolled": true
   },
   "outputs": [
    {
     "name": "stdout",
     "output_type": "stream",
     "text": [
      "### Created Digital Twin:\n",
      "{'$dtId': 'A', '$etag': 'W/\"5b2d3f46-b561-47bf-90b7-ebc6a508cfdb\"', 'PowerMeter': 0.0, 'Status': 0, 'Amps_Ia': 0.0, 'Amps_Ic': 0.02231950853476, 'Amps_Ib': 0.0, 'PowerLevel': 'Low', '$metadata': {'$model': 'dtmi:syntheticfactory:sourcemachine2;1', 'PowerMeter': {'lastUpdateTime': '2022-02-16T19:31:47.6499133Z'}, 'Status': {'lastUpdateTime': '2022-02-16T19:31:47.6499133Z'}, 'Amps_Ia': {'lastUpdateTime': '2022-02-16T19:31:47.6499133Z'}, 'Amps_Ic': {'lastUpdateTime': '2022-02-16T19:31:47.6499133Z'}, 'Amps_Ib': {'lastUpdateTime': '2022-02-16T19:31:47.6499133Z'}, 'PowerLevel': {'lastUpdateTime': '2022-02-16T19:31:47.6499133Z'}}}\n",
      "### Created Digital Twin:\n",
      "{'$dtId': 'B', '$etag': 'W/\"0148b72f-7d11-435c-8651-7591d01609d0\"', 'Status': 0, 'Amps_Ia': 0.0, 'PowerMeter': 0.0, 'Amps_Ib': 0.0, 'Amps_Ic': 0.0, 'PowerLevel': 'High', '$metadata': {'$model': 'dtmi:syntheticfactory:sourcemachine2;1', 'Status': {'lastUpdateTime': '2022-02-16T19:31:48.2593111Z'}, 'Amps_Ia': {'lastUpdateTime': '2022-02-16T19:31:48.2593111Z'}, 'PowerMeter': {'lastUpdateTime': '2022-02-16T19:31:48.2593111Z'}, 'Amps_Ib': {'lastUpdateTime': '2022-02-16T19:31:48.2593111Z'}, 'Amps_Ic': {'lastUpdateTime': '2022-02-16T19:31:48.2593111Z'}, 'PowerLevel': {'lastUpdateTime': '2022-02-16T19:31:48.2593111Z'}}}\n",
      "### Created Digital Twin:\n",
      "{'$dtId': 'C', '$etag': 'W/\"bcc555f2-071c-4d07-9e59-50b6317c6c54\"', 'PowerMeter': 0.0, 'Amps_Ib': 0.0, 'Amps_Ia': 0.0, 'Amps_Ic': 0.0, '$metadata': {'$model': 'dtmi:syntheticfactory:feedmachine2;1', 'PowerMeter': {'lastUpdateTime': '2022-02-16T19:31:48.7055429Z'}, 'Amps_Ib': {'lastUpdateTime': '2022-02-16T19:31:48.7055429Z'}, 'Amps_Ia': {'lastUpdateTime': '2022-02-16T19:31:48.7055429Z'}, 'Amps_Ic': {'lastUpdateTime': '2022-02-16T19:31:48.7055429Z'}}}\n",
      "### Created Digital Twin:\n",
      "{'$dtId': 'D', '$etag': 'W/\"249631f4-15ba-471b-a755-73f834e8d0e2\"', 'Amps_Ia': 0.0, 'Amps_Ib': 0.0, 'PowerMeter': 0.0, 'Amps_Ic': 0.0, '$metadata': {'$model': 'dtmi:syntheticfactory:feedmachine2;1', 'Amps_Ia': {'lastUpdateTime': '2022-02-16T19:31:49.0021349Z'}, 'Amps_Ib': {'lastUpdateTime': '2022-02-16T19:31:49.0021349Z'}, 'PowerMeter': {'lastUpdateTime': '2022-02-16T19:31:49.0021349Z'}, 'Amps_Ic': {'lastUpdateTime': '2022-02-16T19:31:49.0021349Z'}}}\n",
      "### Created Digital Twin:\n",
      "{'$dtId': 'E', '$etag': 'W/\"c22cc31f-5409-4309-bc08-7c5f3c7258d9\"', 'Amps_Ib': 0.0, 'PowerMeter': 0.0, 'Amps_Ic': 0.0, 'Amps_Ia': 0.0568128884797293, '$metadata': {'$model': 'dtmi:syntheticfactory:feedmachine2;1', 'Amps_Ib': {'lastUpdateTime': '2022-02-16T19:31:49.2646084Z'}, 'PowerMeter': {'lastUpdateTime': '2022-02-16T19:31:49.2646084Z'}, 'Amps_Ic': {'lastUpdateTime': '2022-02-16T19:31:49.2646084Z'}, 'Amps_Ia': {'lastUpdateTime': '2022-02-16T19:31:49.2646084Z'}}}\n",
      "### Created Digital Twin:\n",
      "{'$dtId': 'F', '$etag': 'W/\"bf740af7-30bf-470f-bfef-eb02ae2a6d9c\"', 'Amps_Ib': 0.0, 'Amps_Ia': 0.0, 'Amps_Ic': 0.0, 'PowerMeter': 0.0368662020797571, '$metadata': {'$model': 'dtmi:syntheticfactory:feedmachine2;1', 'Amps_Ib': {'lastUpdateTime': '2022-02-16T19:31:49.5414637Z'}, 'Amps_Ia': {'lastUpdateTime': '2022-02-16T19:31:49.5414637Z'}, 'Amps_Ic': {'lastUpdateTime': '2022-02-16T19:31:49.5414637Z'}, 'PowerMeter': {'lastUpdateTime': '2022-02-16T19:31:49.5414637Z'}}}\n",
      "### Created Digital Twin:\n",
      "{'$dtId': 'G', '$etag': 'W/\"32362d85-1ec7-4879-98b6-4d26411b43fb\"', 'Amps_Ib': 0.0, 'Amps_Ic': 0.0, 'Amps_Ia': 0.0, 'PowerMeter': 0.0, '$metadata': {'$model': 'dtmi:syntheticfactory:feedmachine2;1', 'Amps_Ib': {'lastUpdateTime': '2022-02-16T19:31:49.7439718Z'}, 'Amps_Ic': {'lastUpdateTime': '2022-02-16T19:31:49.7439718Z'}, 'Amps_Ia': {'lastUpdateTime': '2022-02-16T19:31:49.7439718Z'}, 'PowerMeter': {'lastUpdateTime': '2022-02-16T19:31:49.7439718Z'}}}\n",
      "### Created Digital Twin:\n",
      "{'$dtId': 'H', '$etag': 'W/\"c7185a84-ea97-4144-adfa-de2704ba06cf\"', 'Amps_Ib': 0.0, 'PowerMeter': 0.0891934885741622, 'Amps_Ia': 0.0, 'Amps_Ic': 0.0, '$metadata': {'$model': 'dtmi:syntheticfactory:feedmachine2;1', 'Amps_Ib': {'lastUpdateTime': '2022-02-16T19:31:49.9913285Z'}, 'PowerMeter': {'lastUpdateTime': '2022-02-16T19:31:49.9913285Z'}, 'Amps_Ia': {'lastUpdateTime': '2022-02-16T19:31:49.9913285Z'}, 'Amps_Ic': {'lastUpdateTime': '2022-02-16T19:31:49.9913285Z'}}}\n",
      "### Created Digital Twin:\n",
      "{'$dtId': 'I', '$etag': 'W/\"c60d3e05-255a-4342-8020-0f61538b83b0\"', 'PowerMeter': 0.0, 'Amps_Ia': 0.0299325892971772, 'Amps_Ic': 0.0, 'Amps_Ib': 0.0, '$metadata': {'$model': 'dtmi:syntheticfactory:feedmachine2;1', 'PowerMeter': {'lastUpdateTime': '2022-02-16T19:31:50.2406044Z'}, 'Amps_Ia': {'lastUpdateTime': '2022-02-16T19:31:50.2406044Z'}, 'Amps_Ic': {'lastUpdateTime': '2022-02-16T19:31:50.2406044Z'}, 'Amps_Ib': {'lastUpdateTime': '2022-02-16T19:31:50.2406044Z'}}}\n",
      "### Created Digital Twin:\n",
      "{'$dtId': 'J', '$etag': 'W/\"9ab114ca-40b2-4ea8-a53c-df640d6d2655\"', 'Amps_Ic': 0.0, 'PowerMeter': 0.0, 'Amps_Ia': 0.0, 'Amps_Ib': 0.0, '$metadata': {'$model': 'dtmi:syntheticfactory:feedmachine2;1', 'Amps_Ic': {'lastUpdateTime': '2022-02-16T19:31:50.6286402Z'}, 'PowerMeter': {'lastUpdateTime': '2022-02-16T19:31:50.6286402Z'}, 'Amps_Ia': {'lastUpdateTime': '2022-02-16T19:31:50.6286402Z'}, 'Amps_Ib': {'lastUpdateTime': '2022-02-16T19:31:50.6286402Z'}}}\n"
     ]
    }
   ],
   "source": [
    "list_init_dicts, list_twin_ids = transform_to_json(df_inittwins)\n",
    "list_twins = []\n",
    "for i, twindict_i in enumerate(list_init_dicts):\n",
    "    created_twin = ADTInstance1.upsert_digital_twin(list_twin_ids[i], twindict_i)\n",
    "    list_twins.append(created_twin)\n"
   ]
  },
  {
   "cell_type": "code",
   "execution_count": 27,
   "metadata": {},
   "outputs": [
    {
     "name": "stdout",
     "output_type": "stream",
     "text": [
      "10\n"
     ]
    },
    {
     "data": {
      "text/plain": [
       "[{'$dtId': 'A',\n",
       "  '$etag': 'W/\"5b2d3f46-b561-47bf-90b7-ebc6a508cfdb\"',\n",
       "  'PowerMeter': 0.0,\n",
       "  'Status': 0,\n",
       "  'Amps_Ia': 0.0,\n",
       "  'Amps_Ic': 0.02231950853476,\n",
       "  'Amps_Ib': 0.0,\n",
       "  'PowerLevel': 'Low',\n",
       "  '$metadata': {'$model': 'dtmi:syntheticfactory:sourcemachine2;1',\n",
       "   'PowerMeter': {'lastUpdateTime': '2022-02-16T19:31:47.6499133Z'},\n",
       "   'Status': {'lastUpdateTime': '2022-02-16T19:31:47.6499133Z'},\n",
       "   'Amps_Ia': {'lastUpdateTime': '2022-02-16T19:31:47.6499133Z'},\n",
       "   'Amps_Ic': {'lastUpdateTime': '2022-02-16T19:31:47.6499133Z'},\n",
       "   'Amps_Ib': {'lastUpdateTime': '2022-02-16T19:31:47.6499133Z'},\n",
       "   'PowerLevel': {'lastUpdateTime': '2022-02-16T19:31:47.6499133Z'}}},\n",
       " {'$dtId': 'B',\n",
       "  '$etag': 'W/\"0148b72f-7d11-435c-8651-7591d01609d0\"',\n",
       "  'Status': 0,\n",
       "  'Amps_Ia': 0.0,\n",
       "  'PowerMeter': 0.0,\n",
       "  'Amps_Ib': 0.0,\n",
       "  'Amps_Ic': 0.0,\n",
       "  'PowerLevel': 'High',\n",
       "  '$metadata': {'$model': 'dtmi:syntheticfactory:sourcemachine2;1',\n",
       "   'Status': {'lastUpdateTime': '2022-02-16T19:31:48.2593111Z'},\n",
       "   'Amps_Ia': {'lastUpdateTime': '2022-02-16T19:31:48.2593111Z'},\n",
       "   'PowerMeter': {'lastUpdateTime': '2022-02-16T19:31:48.2593111Z'},\n",
       "   'Amps_Ib': {'lastUpdateTime': '2022-02-16T19:31:48.2593111Z'},\n",
       "   'Amps_Ic': {'lastUpdateTime': '2022-02-16T19:31:48.2593111Z'},\n",
       "   'PowerLevel': {'lastUpdateTime': '2022-02-16T19:31:48.2593111Z'}}},\n",
       " {'$dtId': 'C',\n",
       "  '$etag': 'W/\"bcc555f2-071c-4d07-9e59-50b6317c6c54\"',\n",
       "  'PowerMeter': 0.0,\n",
       "  'Amps_Ib': 0.0,\n",
       "  'Amps_Ia': 0.0,\n",
       "  'Amps_Ic': 0.0,\n",
       "  '$metadata': {'$model': 'dtmi:syntheticfactory:feedmachine2;1',\n",
       "   'PowerMeter': {'lastUpdateTime': '2022-02-16T19:31:48.7055429Z'},\n",
       "   'Amps_Ib': {'lastUpdateTime': '2022-02-16T19:31:48.7055429Z'},\n",
       "   'Amps_Ia': {'lastUpdateTime': '2022-02-16T19:31:48.7055429Z'},\n",
       "   'Amps_Ic': {'lastUpdateTime': '2022-02-16T19:31:48.7055429Z'}}},\n",
       " {'$dtId': 'D',\n",
       "  '$etag': 'W/\"249631f4-15ba-471b-a755-73f834e8d0e2\"',\n",
       "  'Amps_Ia': 0.0,\n",
       "  'Amps_Ib': 0.0,\n",
       "  'PowerMeter': 0.0,\n",
       "  'Amps_Ic': 0.0,\n",
       "  '$metadata': {'$model': 'dtmi:syntheticfactory:feedmachine2;1',\n",
       "   'Amps_Ia': {'lastUpdateTime': '2022-02-16T19:31:49.0021349Z'},\n",
       "   'Amps_Ib': {'lastUpdateTime': '2022-02-16T19:31:49.0021349Z'},\n",
       "   'PowerMeter': {'lastUpdateTime': '2022-02-16T19:31:49.0021349Z'},\n",
       "   'Amps_Ic': {'lastUpdateTime': '2022-02-16T19:31:49.0021349Z'}}},\n",
       " {'$dtId': 'E',\n",
       "  '$etag': 'W/\"c22cc31f-5409-4309-bc08-7c5f3c7258d9\"',\n",
       "  'Amps_Ib': 0.0,\n",
       "  'PowerMeter': 0.0,\n",
       "  'Amps_Ic': 0.0,\n",
       "  'Amps_Ia': 0.0568128884797293,\n",
       "  '$metadata': {'$model': 'dtmi:syntheticfactory:feedmachine2;1',\n",
       "   'Amps_Ib': {'lastUpdateTime': '2022-02-16T19:31:49.2646084Z'},\n",
       "   'PowerMeter': {'lastUpdateTime': '2022-02-16T19:31:49.2646084Z'},\n",
       "   'Amps_Ic': {'lastUpdateTime': '2022-02-16T19:31:49.2646084Z'},\n",
       "   'Amps_Ia': {'lastUpdateTime': '2022-02-16T19:31:49.2646084Z'}}},\n",
       " {'$dtId': 'F',\n",
       "  '$etag': 'W/\"bf740af7-30bf-470f-bfef-eb02ae2a6d9c\"',\n",
       "  'Amps_Ib': 0.0,\n",
       "  'Amps_Ia': 0.0,\n",
       "  'Amps_Ic': 0.0,\n",
       "  'PowerMeter': 0.0368662020797571,\n",
       "  '$metadata': {'$model': 'dtmi:syntheticfactory:feedmachine2;1',\n",
       "   'Amps_Ib': {'lastUpdateTime': '2022-02-16T19:31:49.5414637Z'},\n",
       "   'Amps_Ia': {'lastUpdateTime': '2022-02-16T19:31:49.5414637Z'},\n",
       "   'Amps_Ic': {'lastUpdateTime': '2022-02-16T19:31:49.5414637Z'},\n",
       "   'PowerMeter': {'lastUpdateTime': '2022-02-16T19:31:49.5414637Z'}}},\n",
       " {'$dtId': 'G',\n",
       "  '$etag': 'W/\"32362d85-1ec7-4879-98b6-4d26411b43fb\"',\n",
       "  'Amps_Ib': 0.0,\n",
       "  'Amps_Ic': 0.0,\n",
       "  'Amps_Ia': 0.0,\n",
       "  'PowerMeter': 0.0,\n",
       "  '$metadata': {'$model': 'dtmi:syntheticfactory:feedmachine2;1',\n",
       "   'Amps_Ib': {'lastUpdateTime': '2022-02-16T19:31:49.7439718Z'},\n",
       "   'Amps_Ic': {'lastUpdateTime': '2022-02-16T19:31:49.7439718Z'},\n",
       "   'Amps_Ia': {'lastUpdateTime': '2022-02-16T19:31:49.7439718Z'},\n",
       "   'PowerMeter': {'lastUpdateTime': '2022-02-16T19:31:49.7439718Z'}}},\n",
       " {'$dtId': 'H',\n",
       "  '$etag': 'W/\"c7185a84-ea97-4144-adfa-de2704ba06cf\"',\n",
       "  'Amps_Ib': 0.0,\n",
       "  'PowerMeter': 0.0891934885741622,\n",
       "  'Amps_Ia': 0.0,\n",
       "  'Amps_Ic': 0.0,\n",
       "  '$metadata': {'$model': 'dtmi:syntheticfactory:feedmachine2;1',\n",
       "   'Amps_Ib': {'lastUpdateTime': '2022-02-16T19:31:49.9913285Z'},\n",
       "   'PowerMeter': {'lastUpdateTime': '2022-02-16T19:31:49.9913285Z'},\n",
       "   'Amps_Ia': {'lastUpdateTime': '2022-02-16T19:31:49.9913285Z'},\n",
       "   'Amps_Ic': {'lastUpdateTime': '2022-02-16T19:31:49.9913285Z'}}},\n",
       " {'$dtId': 'I',\n",
       "  '$etag': 'W/\"c60d3e05-255a-4342-8020-0f61538b83b0\"',\n",
       "  'PowerMeter': 0.0,\n",
       "  'Amps_Ia': 0.0299325892971772,\n",
       "  'Amps_Ic': 0.0,\n",
       "  'Amps_Ib': 0.0,\n",
       "  '$metadata': {'$model': 'dtmi:syntheticfactory:feedmachine2;1',\n",
       "   'PowerMeter': {'lastUpdateTime': '2022-02-16T19:31:50.2406044Z'},\n",
       "   'Amps_Ia': {'lastUpdateTime': '2022-02-16T19:31:50.2406044Z'},\n",
       "   'Amps_Ic': {'lastUpdateTime': '2022-02-16T19:31:50.2406044Z'},\n",
       "   'Amps_Ib': {'lastUpdateTime': '2022-02-16T19:31:50.2406044Z'}}},\n",
       " {'$dtId': 'J',\n",
       "  '$etag': 'W/\"9ab114ca-40b2-4ea8-a53c-df640d6d2655\"',\n",
       "  'Amps_Ic': 0.0,\n",
       "  'PowerMeter': 0.0,\n",
       "  'Amps_Ia': 0.0,\n",
       "  'Amps_Ib': 0.0,\n",
       "  '$metadata': {'$model': 'dtmi:syntheticfactory:feedmachine2;1',\n",
       "   'Amps_Ic': {'lastUpdateTime': '2022-02-16T19:31:50.6286402Z'},\n",
       "   'PowerMeter': {'lastUpdateTime': '2022-02-16T19:31:50.6286402Z'},\n",
       "   'Amps_Ia': {'lastUpdateTime': '2022-02-16T19:31:50.6286402Z'},\n",
       "   'Amps_Ib': {'lastUpdateTime': '2022-02-16T19:31:50.6286402Z'}}}]"
      ]
     },
     "execution_count": 27,
     "metadata": {},
     "output_type": "execute_result"
    }
   ],
   "source": [
    "print(len(list_twins))\n",
    "list_twins"
   ]
  },
  {
   "cell_type": "markdown",
   "metadata": {},
   "source": [
    "Here, we see that 10 digital twins are created, with the twin-id, and properties ('Amps_Ia', 'Amps_Ib', 'Amps_Ic') as defined in the associated model's DTDL model json. Upon creation, the update time is also recorded in the metadata."
   ]
  },
  {
   "cell_type": "markdown",
   "metadata": {},
   "source": [
    "# Add relationships to twins\n",
    "\n",
    "Relationships are added separately to the twins as follows. We make use of the topology file, using `df_topology`, to determine the source and target twins, as well as the name of the relationships."
   ]
  },
  {
   "cell_type": "code",
   "execution_count": 295,
   "metadata": {},
   "outputs": [
    {
     "data": {
      "text/html": [
       "<div>\n",
       "<style scoped>\n",
       "    .dataframe tbody tr th:only-of-type {\n",
       "        vertical-align: middle;\n",
       "    }\n",
       "\n",
       "    .dataframe tbody tr th {\n",
       "        vertical-align: top;\n",
       "    }\n",
       "\n",
       "    .dataframe thead th {\n",
       "        text-align: right;\n",
       "    }\n",
       "</style>\n",
       "<table border=\"1\" class=\"dataframe\">\n",
       "  <thead>\n",
       "    <tr style=\"text-align: right;\">\n",
       "      <th></th>\n",
       "      <th>relationshipName</th>\n",
       "      <th>sourceId</th>\n",
       "      <th>targetId</th>\n",
       "    </tr>\n",
       "  </thead>\n",
       "  <tbody>\n",
       "    <tr>\n",
       "      <th>0</th>\n",
       "      <td>isParent</td>\n",
       "      <td>B</td>\n",
       "      <td>E</td>\n",
       "    </tr>\n",
       "    <tr>\n",
       "      <th>1</th>\n",
       "      <td>isParent</td>\n",
       "      <td>B</td>\n",
       "      <td>F</td>\n",
       "    </tr>\n",
       "    <tr>\n",
       "      <th>2</th>\n",
       "      <td>isParent</td>\n",
       "      <td>B</td>\n",
       "      <td>G</td>\n",
       "    </tr>\n",
       "    <tr>\n",
       "      <th>3</th>\n",
       "      <td>isParent</td>\n",
       "      <td>B</td>\n",
       "      <td>I</td>\n",
       "    </tr>\n",
       "    <tr>\n",
       "      <th>4</th>\n",
       "      <td>isParent</td>\n",
       "      <td>D</td>\n",
       "      <td>H</td>\n",
       "    </tr>\n",
       "  </tbody>\n",
       "</table>\n",
       "</div>"
      ],
      "text/plain": [
       "  relationshipName sourceId targetId\n",
       "0         isParent        B        E\n",
       "1         isParent        B        F\n",
       "2         isParent        B        G\n",
       "3         isParent        B        I\n",
       "4         isParent        D        H"
      ]
     },
     "execution_count": 295,
     "metadata": {},
     "output_type": "execute_result"
    }
   ],
   "source": [
    "df_topology.head()"
   ]
  },
  {
   "cell_type": "code",
   "execution_count": 224,
   "metadata": {},
   "outputs": [
    {
     "name": "stdout",
     "output_type": "stream",
     "text": [
      "### Created relationship with idB-isParent-E\n",
      "### Created relationship with idB-isParent-F\n",
      "### Created relationship with idB-isParent-G\n",
      "### Created relationship with idB-isParent-I\n",
      "### Created relationship with idD-isParent-H\n",
      "### Created relationship with idH-isParent-J\n",
      "### Created relationship with idA-isParent-C\n",
      "### Created relationship with idA-isParent-D\n",
      "### Created relationship with idA-isParent-E\n",
      "### Created relationship with idI-isRedundant-F\n",
      "### Created relationship with idF-isRedundant-I\n"
     ]
    }
   ],
   "source": [
    "for i in df_topology.index:\n",
    "        machine_relationship = {\n",
    "            \"$relationshipId\": f'{df_topology.loc[i][\"sourceId\"]}-{df_topology.loc[i][\"relationshipName\"]}-{df_topology.loc[i][\"targetId\"]}',\n",
    "            \"$sourceId\": df_topology.loc[i][\"sourceId\"],\n",
    "            \"$relationshipName\": df_topology.loc[i][\"relationshipName\"],\n",
    "            \"$targetId\": df_topology.loc[i][\"targetId\"]\n",
    "        }\n",
    "\n",
    "        ADTInstance1.upsert_relationship(machine_relationship)\n"
   ]
  },
  {
   "cell_type": "code",
   "execution_count": 225,
   "metadata": {},
   "outputs": [
    {
     "name": "stdout",
     "output_type": "stream",
     "text": [
      "{'$relationshipId': 'A-isParent-C', '$etag': 'W/\"a1711568-93fa-46c8-86cd-cb66a9f4a086\"', '$sourceId': 'A', '$relationshipName': 'isParent', '$targetId': 'C'}\n",
      "{'$relationshipId': 'A-isParent-D', '$etag': 'W/\"085248fa-7a04-493f-9dfb-f9f0d261903d\"', '$sourceId': 'A', '$relationshipName': 'isParent', '$targetId': 'D'}\n",
      "{'$relationshipId': 'A-isParent-E', '$etag': 'W/\"b19519ed-5f8f-4552-9237-6c6fa4717ec9\"', '$sourceId': 'A', '$relationshipName': 'isParent', '$targetId': 'E'}\n"
     ]
    }
   ],
   "source": [
    "ADTInstance1.list_relationships('A')"
   ]
  },
  {
   "cell_type": "code",
   "execution_count": 226,
   "metadata": {},
   "outputs": [
    {
     "name": "stdout",
     "output_type": "stream",
     "text": [
      "{'$relationshipId': 'I-isRedundant-F', '$etag': 'W/\"9cdf8a05-543f-4926-97c3-3e877479511c\"', '$sourceId': 'I', '$relationshipName': 'isRedundant', '$targetId': 'F'}\n"
     ]
    }
   ],
   "source": [
    "ADTInstance1.list_relationships('I')"
   ]
  },
  {
   "cell_type": "markdown",
   "metadata": {},
   "source": [
    "# Example queries\n",
    "\n",
    "Here, we have some illustrative queries that we can use to check if the twins and relationships are defined as expected."
   ]
  },
  {
   "cell_type": "code",
   "execution_count": 229,
   "metadata": {},
   "outputs": [
    {
     "name": "stdout",
     "output_type": "stream",
     "text": [
      "### DigitalTwins:\n",
      "{'$dtId': 'A', '$etag': 'W/\"6814f598-e3cf-49d5-abc9-64ec38d79de5\"', 'Amps_Ic': {'sourceTimestamp': '2020-12-31T23:59:59.179364Z', 'Amps_Ic': 0.0}, 'Amps_Ib': {'sourceTimestamp': '2020-12-31T23:59:59.470839Z', 'Amps_Ib': 0.0}, 'PowerLevel': {'sourceTimestamp': '2020-12-31T23:59:59.737262Z', 'PowerLevel': 'Low'}, 'Amps_Ia': {'sourceTimestamp': '2021-01-01T00:00:00.990074Z', 'Amps_Ia': 0.0}, '$metadata': {'$model': 'dtmi:syntheticfactory:sourcemachine2;1', 'Amps_Ic': {'lastUpdateTime': '2021-12-10T00:49:01.6099358Z'}, 'Amps_Ib': {'lastUpdateTime': '2021-12-10T00:49:01.6099358Z'}, 'PowerLevel': {'lastUpdateTime': '2021-12-10T00:49:01.6099358Z'}, 'Amps_Ia': {'lastUpdateTime': '2021-12-10T00:49:01.6099358Z'}}}\n",
      "{'$dtId': 'B', '$etag': 'W/\"1c16c790-a274-47da-b7bd-cf8fe3d699d9\"', 'Amps_Ib': {'sourceTimestamp': '2020-12-31T23:59:59.147836Z', 'Amps_Ib': 0.0}, 'PowerLevel': {'sourceTimestamp': '2020-12-31T23:59:59.51408Z', 'PowerLevel': 'High'}, 'Amps_Ia': {'sourceTimestamp': '2020-12-31T23:59:59.584866Z', 'Amps_Ia': 0.0}, 'Amps_Ic': {'sourceTimestamp': '2020-12-31T23:59:59.807996Z', 'Amps_Ic': 0.0}, '$metadata': {'$model': 'dtmi:syntheticfactory:sourcemachine2;1', 'Amps_Ib': {'lastUpdateTime': '2021-12-10T00:49:02.0016498Z'}, 'PowerLevel': {'lastUpdateTime': '2021-12-10T00:49:02.0016498Z'}, 'Amps_Ia': {'lastUpdateTime': '2021-12-10T00:49:02.0016498Z'}, 'Amps_Ic': {'lastUpdateTime': '2021-12-10T00:49:02.0016498Z'}}}\n"
     ]
    },
    {
     "data": {
      "text/plain": [
       "<iterator object azure.core.paging.ItemPaged at 0x1eeede2dc88>"
      ]
     },
     "execution_count": 229,
     "metadata": {},
     "output_type": "execute_result"
    }
   ],
   "source": [
    "query_expression = f\"\"\"\n",
    "SELECT * FROM digitaltwins t \n",
    "where IS_OF_MODEL('dtmi:syntheticfactory:sourcemachine;1') \n",
    "\"\"\"\n",
    "query_result = ADTInstance1.query_twins(query_expression)\n",
    "query_result"
   ]
  },
  {
   "cell_type": "code",
   "execution_count": 230,
   "metadata": {},
   "outputs": [
    {
     "name": "stdout",
     "output_type": "stream",
     "text": [
      "### DigitalTwins:\n",
      "{'t': {'$dtId': 'A', '$etag': 'W/\"6814f598-e3cf-49d5-abc9-64ec38d79de5\"', 'Amps_Ic': {'sourceTimestamp': '2020-12-31T23:59:59.179364Z', 'Amps_Ic': 0}, 'Amps_Ib': {'sourceTimestamp': '2020-12-31T23:59:59.470839Z', 'Amps_Ib': 0}, 'PowerLevel': {'sourceTimestamp': '2020-12-31T23:59:59.737262Z', 'PowerLevel': 'Low'}, 'Amps_Ia': {'sourceTimestamp': '2021-01-01T00:00:00.990074Z', 'Amps_Ia': 0}, '$metadata': {'$model': 'dtmi:syntheticfactory:sourcemachine2;1', 'Amps_Ic': {'lastUpdateTime': '2021-12-10T00:49:01.6099358Z'}, 'Amps_Ib': {'lastUpdateTime': '2021-12-10T00:49:01.6099358Z'}, 'PowerLevel': {'lastUpdateTime': '2021-12-10T00:49:01.6099358Z'}, 'Amps_Ia': {'lastUpdateTime': '2021-12-10T00:49:01.6099358Z'}}}, 'ct': {'$dtId': 'C', '$etag': 'W/\"9af3b6b1-1687-4317-bfe5-82639588d5d3\"', 'Amps_Ia': {'sourceTimestamp': '2021-01-01T00:00:00.379707Z', 'Amps_Ia': 0}, 'Amps_Ib': {'sourceTimestamp': '2021-01-01T00:00:00.96584Z', 'Amps_Ib': 0}, 'Amps_Ic': {'sourceTimestamp': '2021-01-01T00:05:00.408061Z', 'Amps_Ic': 0}, '$metadata': {'$model': 'dtmi:syntheticfactory:feedmachine2;1', 'Amps_Ia': {'lastUpdateTime': '2021-12-10T00:49:02.1643803Z'}, 'Amps_Ib': {'lastUpdateTime': '2021-12-10T00:49:02.1643803Z'}, 'Amps_Ic': {'lastUpdateTime': '2021-12-10T00:49:02.1643803Z'}}}}\n",
      "<iterator object azure.core.paging.ItemPaged at 0x1eeedc69550>\n"
     ]
    }
   ],
   "source": [
    "query_expression = f\"\"\"\n",
    "SELECT t,ct FROM digitaltwins t \n",
    "JOIN ct RELATED t.isParent \n",
    "WHERE ct.$dtId = 'C'\n",
    "\"\"\"\n",
    "query_result = ADTInstance1.query_twins(query_expression)\n",
    "print(query_result)"
   ]
  },
  {
   "cell_type": "code",
   "execution_count": 231,
   "metadata": {},
   "outputs": [
    {
     "name": "stdout",
     "output_type": "stream",
     "text": [
      "### DigitalTwins:\n",
      "{'t': {'$dtId': 'F', '$etag': 'W/\"2d68cd19-1ad8-409f-a6ed-4c6ff9b83c2b\"', 'Amps_Ia': {'sourceTimestamp': '2021-01-01T00:00:00.158935Z', 'Amps_Ia': 0}, 'Amps_Ib': {'sourceTimestamp': '2021-01-01T00:00:00.247246Z', 'Amps_Ib': 0}, 'Amps_Ic': {'sourceTimestamp': '2021-01-01T00:04:59.336284Z', 'Amps_Ic': 0}, '$metadata': {'$model': 'dtmi:syntheticfactory:feedmachine2;1', 'Amps_Ia': {'lastUpdateTime': '2021-12-10T00:49:02.8916058Z'}, 'Amps_Ib': {'lastUpdateTime': '2021-12-10T00:49:02.8916058Z'}, 'Amps_Ic': {'lastUpdateTime': '2021-12-10T00:49:02.8916058Z'}}}, 'ct': {'$dtId': 'I', '$etag': 'W/\"21e127b3-3f86-4ff7-abfb-34a2c1628acf\"', 'Amps_Ic': {'sourceTimestamp': '2020-12-31T23:59:59.106646Z', 'Amps_Ic': 0}, 'Amps_Ia': {'sourceTimestamp': '2020-12-31T23:59:59.525303Z', 'Amps_Ia': 0}, 'Amps_Ib': {'sourceTimestamp': '2020-12-31T23:59:59.621948Z', 'Amps_Ib': 0}, '$metadata': {'$model': 'dtmi:syntheticfactory:feedmachine2;1', 'Amps_Ic': {'lastUpdateTime': '2021-12-10T00:49:03.4109986Z'}, 'Amps_Ia': {'lastUpdateTime': '2021-12-10T00:49:03.4109986Z'}, 'Amps_Ib': {'lastUpdateTime': '2021-12-10T00:49:03.4109986Z'}}}}\n"
     ]
    },
    {
     "data": {
      "text/plain": [
       "<iterator object azure.core.paging.ItemPaged at 0x1eeede23f60>"
      ]
     },
     "execution_count": 231,
     "metadata": {},
     "output_type": "execute_result"
    }
   ],
   "source": [
    "query_expression = f\"\"\"\n",
    "SELECT t,ct FROM digitaltwins t \n",
    "JOIN ct RELATED t.isRedundant\n",
    "WHERE ct.$dtId = 'I'\n",
    "\"\"\"\n",
    "query_result = ADTInstance1.query_twins(query_expression)\n",
    "query_result"
   ]
  },
  {
   "cell_type": "code",
   "execution_count": 232,
   "metadata": {},
   "outputs": [
    {
     "name": "stdout",
     "output_type": "stream",
     "text": [
      "### DigitalTwins:\n",
      "{'t': {'$dtId': 'I', '$etag': 'W/\"21e127b3-3f86-4ff7-abfb-34a2c1628acf\"', 'Amps_Ic': {'sourceTimestamp': '2020-12-31T23:59:59.106646Z', 'Amps_Ic': 0}, 'Amps_Ia': {'sourceTimestamp': '2020-12-31T23:59:59.525303Z', 'Amps_Ia': 0}, 'Amps_Ib': {'sourceTimestamp': '2020-12-31T23:59:59.621948Z', 'Amps_Ib': 0}, '$metadata': {'$model': 'dtmi:syntheticfactory:feedmachine2;1', 'Amps_Ic': {'lastUpdateTime': '2021-12-10T00:49:03.4109986Z'}, 'Amps_Ia': {'lastUpdateTime': '2021-12-10T00:49:03.4109986Z'}, 'Amps_Ib': {'lastUpdateTime': '2021-12-10T00:49:03.4109986Z'}}}, 'ct': {'$dtId': 'F', '$etag': 'W/\"2d68cd19-1ad8-409f-a6ed-4c6ff9b83c2b\"', 'Amps_Ia': {'sourceTimestamp': '2021-01-01T00:00:00.158935Z', 'Amps_Ia': 0}, 'Amps_Ib': {'sourceTimestamp': '2021-01-01T00:00:00.247246Z', 'Amps_Ib': 0}, 'Amps_Ic': {'sourceTimestamp': '2021-01-01T00:04:59.336284Z', 'Amps_Ic': 0}, '$metadata': {'$model': 'dtmi:syntheticfactory:feedmachine2;1', 'Amps_Ia': {'lastUpdateTime': '2021-12-10T00:49:02.8916058Z'}, 'Amps_Ib': {'lastUpdateTime': '2021-12-10T00:49:02.8916058Z'}, 'Amps_Ic': {'lastUpdateTime': '2021-12-10T00:49:02.8916058Z'}}}}\n"
     ]
    },
    {
     "data": {
      "text/plain": [
       "<iterator object azure.core.paging.ItemPaged at 0x1eeede292b0>"
      ]
     },
     "execution_count": 232,
     "metadata": {},
     "output_type": "execute_result"
    }
   ],
   "source": [
    "query_expression = f\"\"\"\n",
    "SELECT t,ct FROM digitaltwins t \n",
    "JOIN ct RELATED t.isRedundant\n",
    "WHERE ct.$dtId = 'F'\n",
    "\"\"\"\n",
    "query_result = ADTInstance1.query_twins(query_expression)\n",
    "query_result"
   ]
  },
  {
   "cell_type": "markdown",
   "metadata": {},
   "source": [
    "# Run updates to twins\n",
    "\n",
    "To mimic IoT sensor signals flowing through the ADT twins, we update the corresponding twin properties using json patches. We use the time-series in `df_inittwins` to create patches for each data-point. "
   ]
  },
  {
   "cell_type": "code",
   "execution_count": 245,
   "metadata": {
    "scrolled": true
   },
   "outputs": [
    {
     "data": {
      "text/html": [
       "<div>\n",
       "<style scoped>\n",
       "    .dataframe tbody tr th:only-of-type {\n",
       "        vertical-align: middle;\n",
       "    }\n",
       "\n",
       "    .dataframe tbody tr th {\n",
       "        vertical-align: top;\n",
       "    }\n",
       "\n",
       "    .dataframe thead th {\n",
       "        text-align: right;\n",
       "    }\n",
       "</style>\n",
       "<table border=\"1\" class=\"dataframe\">\n",
       "  <thead>\n",
       "    <tr style=\"text-align: right;\">\n",
       "      <th></th>\n",
       "      <th>Id</th>\n",
       "      <th>ModelId</th>\n",
       "      <th>Key</th>\n",
       "      <th>Timestamp</th>\n",
       "      <th>Value</th>\n",
       "      <th>Schema</th>\n",
       "    </tr>\n",
       "  </thead>\n",
       "  <tbody>\n",
       "    <tr>\n",
       "      <th>0</th>\n",
       "      <td>I</td>\n",
       "      <td>dtmi:syntheticfactory:feedmachine2;1</td>\n",
       "      <td>Amps_Ic</td>\n",
       "      <td>2020-12-31 23:59:59.106646</td>\n",
       "      <td>0.0</td>\n",
       "      <td>double</td>\n",
       "    </tr>\n",
       "    <tr>\n",
       "      <th>1</th>\n",
       "      <td>B</td>\n",
       "      <td>dtmi:syntheticfactory:sourcemachine2;1</td>\n",
       "      <td>Amps_Ib</td>\n",
       "      <td>2020-12-31 23:59:59.147836</td>\n",
       "      <td>0.0</td>\n",
       "      <td>double</td>\n",
       "    </tr>\n",
       "    <tr>\n",
       "      <th>2</th>\n",
       "      <td>A</td>\n",
       "      <td>dtmi:syntheticfactory:sourcemachine2;1</td>\n",
       "      <td>Amps_Ic</td>\n",
       "      <td>2020-12-31 23:59:59.179364</td>\n",
       "      <td>0.0</td>\n",
       "      <td>double</td>\n",
       "    </tr>\n",
       "    <tr>\n",
       "      <th>3</th>\n",
       "      <td>E</td>\n",
       "      <td>dtmi:syntheticfactory:feedmachine2;1</td>\n",
       "      <td>Amps_Ib</td>\n",
       "      <td>2020-12-31 23:59:59.216322</td>\n",
       "      <td>0.0</td>\n",
       "      <td>double</td>\n",
       "    </tr>\n",
       "    <tr>\n",
       "      <th>4</th>\n",
       "      <td>D</td>\n",
       "      <td>dtmi:syntheticfactory:feedmachine2;1</td>\n",
       "      <td>Amps_Ib</td>\n",
       "      <td>2020-12-31 23:59:59.349022</td>\n",
       "      <td>0.0</td>\n",
       "      <td>double</td>\n",
       "    </tr>\n",
       "    <tr>\n",
       "      <th>5</th>\n",
       "      <td>A</td>\n",
       "      <td>dtmi:syntheticfactory:sourcemachine2;1</td>\n",
       "      <td>Amps_Ib</td>\n",
       "      <td>2020-12-31 23:59:59.470839</td>\n",
       "      <td>0.0</td>\n",
       "      <td>double</td>\n",
       "    </tr>\n",
       "    <tr>\n",
       "      <th>6</th>\n",
       "      <td>B</td>\n",
       "      <td>dtmi:syntheticfactory:sourcemachine2;1</td>\n",
       "      <td>PowerLevel</td>\n",
       "      <td>2020-12-31 23:59:59.514080</td>\n",
       "      <td>High</td>\n",
       "      <td>string</td>\n",
       "    </tr>\n",
       "    <tr>\n",
       "      <th>7</th>\n",
       "      <td>I</td>\n",
       "      <td>dtmi:syntheticfactory:feedmachine2;1</td>\n",
       "      <td>Amps_Ia</td>\n",
       "      <td>2020-12-31 23:59:59.525303</td>\n",
       "      <td>0.0</td>\n",
       "      <td>double</td>\n",
       "    </tr>\n",
       "    <tr>\n",
       "      <th>8</th>\n",
       "      <td>B</td>\n",
       "      <td>dtmi:syntheticfactory:sourcemachine2;1</td>\n",
       "      <td>Amps_Ia</td>\n",
       "      <td>2020-12-31 23:59:59.584866</td>\n",
       "      <td>0.0</td>\n",
       "      <td>double</td>\n",
       "    </tr>\n",
       "    <tr>\n",
       "      <th>9</th>\n",
       "      <td>I</td>\n",
       "      <td>dtmi:syntheticfactory:feedmachine2;1</td>\n",
       "      <td>Amps_Ib</td>\n",
       "      <td>2020-12-31 23:59:59.621948</td>\n",
       "      <td>0.0</td>\n",
       "      <td>double</td>\n",
       "    </tr>\n",
       "    <tr>\n",
       "      <th>10</th>\n",
       "      <td>G</td>\n",
       "      <td>dtmi:syntheticfactory:feedmachine2;1</td>\n",
       "      <td>Amps_Ib</td>\n",
       "      <td>2020-12-31 23:59:59.626119</td>\n",
       "      <td>0.0</td>\n",
       "      <td>double</td>\n",
       "    </tr>\n",
       "    <tr>\n",
       "      <th>11</th>\n",
       "      <td>G</td>\n",
       "      <td>dtmi:syntheticfactory:feedmachine2;1</td>\n",
       "      <td>Amps_Ic</td>\n",
       "      <td>2020-12-31 23:59:59.676013</td>\n",
       "      <td>0.07923975375846994</td>\n",
       "      <td>double</td>\n",
       "    </tr>\n",
       "    <tr>\n",
       "      <th>12</th>\n",
       "      <td>A</td>\n",
       "      <td>dtmi:syntheticfactory:sourcemachine2;1</td>\n",
       "      <td>PowerLevel</td>\n",
       "      <td>2020-12-31 23:59:59.737262</td>\n",
       "      <td>Low</td>\n",
       "      <td>string</td>\n",
       "    </tr>\n",
       "    <tr>\n",
       "      <th>13</th>\n",
       "      <td>J</td>\n",
       "      <td>dtmi:syntheticfactory:feedmachine2;1</td>\n",
       "      <td>Amps_Ic</td>\n",
       "      <td>2020-12-31 23:59:59.750222</td>\n",
       "      <td>0.0</td>\n",
       "      <td>double</td>\n",
       "    </tr>\n",
       "    <tr>\n",
       "      <th>14</th>\n",
       "      <td>B</td>\n",
       "      <td>dtmi:syntheticfactory:sourcemachine2;1</td>\n",
       "      <td>Amps_Ic</td>\n",
       "      <td>2020-12-31 23:59:59.807996</td>\n",
       "      <td>0.0</td>\n",
       "      <td>double</td>\n",
       "    </tr>\n",
       "    <tr>\n",
       "      <th>15</th>\n",
       "      <td>H</td>\n",
       "      <td>dtmi:syntheticfactory:feedmachine2;1</td>\n",
       "      <td>Amps_Ib</td>\n",
       "      <td>2020-12-31 23:59:59.865832</td>\n",
       "      <td>0.05330003136365499</td>\n",
       "      <td>double</td>\n",
       "    </tr>\n",
       "    <tr>\n",
       "      <th>16</th>\n",
       "      <td>H</td>\n",
       "      <td>dtmi:syntheticfactory:feedmachine2;1</td>\n",
       "      <td>Amps_Ic</td>\n",
       "      <td>2020-12-31 23:59:59.964771</td>\n",
       "      <td>0.0</td>\n",
       "      <td>double</td>\n",
       "    </tr>\n",
       "    <tr>\n",
       "      <th>17</th>\n",
       "      <td>D</td>\n",
       "      <td>dtmi:syntheticfactory:feedmachine2;1</td>\n",
       "      <td>Amps_Ia</td>\n",
       "      <td>2021-01-01 00:00:00.063728</td>\n",
       "      <td>0.0</td>\n",
       "      <td>double</td>\n",
       "    </tr>\n",
       "    <tr>\n",
       "      <th>18</th>\n",
       "      <td>E</td>\n",
       "      <td>dtmi:syntheticfactory:feedmachine2;1</td>\n",
       "      <td>Amps_Ia</td>\n",
       "      <td>2021-01-01 00:00:00.095180</td>\n",
       "      <td>0.0</td>\n",
       "      <td>double</td>\n",
       "    </tr>\n",
       "    <tr>\n",
       "      <th>19</th>\n",
       "      <td>F</td>\n",
       "      <td>dtmi:syntheticfactory:feedmachine2;1</td>\n",
       "      <td>Amps_Ia</td>\n",
       "      <td>2021-01-01 00:00:00.158935</td>\n",
       "      <td>0.0</td>\n",
       "      <td>double</td>\n",
       "    </tr>\n",
       "    <tr>\n",
       "      <th>20</th>\n",
       "      <td>F</td>\n",
       "      <td>dtmi:syntheticfactory:feedmachine2;1</td>\n",
       "      <td>Amps_Ib</td>\n",
       "      <td>2021-01-01 00:00:00.247246</td>\n",
       "      <td>0.0</td>\n",
       "      <td>double</td>\n",
       "    </tr>\n",
       "    <tr>\n",
       "      <th>21</th>\n",
       "      <td>J</td>\n",
       "      <td>dtmi:syntheticfactory:feedmachine2;1</td>\n",
       "      <td>Amps_Ia</td>\n",
       "      <td>2021-01-01 00:00:00.299212</td>\n",
       "      <td>0.0</td>\n",
       "      <td>double</td>\n",
       "    </tr>\n",
       "    <tr>\n",
       "      <th>22</th>\n",
       "      <td>J</td>\n",
       "      <td>dtmi:syntheticfactory:feedmachine2;1</td>\n",
       "      <td>Amps_Ib</td>\n",
       "      <td>2021-01-01 00:00:00.335377</td>\n",
       "      <td>0.046948058160921485</td>\n",
       "      <td>double</td>\n",
       "    </tr>\n",
       "    <tr>\n",
       "      <th>23</th>\n",
       "      <td>C</td>\n",
       "      <td>dtmi:syntheticfactory:feedmachine2;1</td>\n",
       "      <td>Amps_Ia</td>\n",
       "      <td>2021-01-01 00:00:00.379707</td>\n",
       "      <td>0.0</td>\n",
       "      <td>double</td>\n",
       "    </tr>\n",
       "    <tr>\n",
       "      <th>24</th>\n",
       "      <td>E</td>\n",
       "      <td>dtmi:syntheticfactory:feedmachine2;1</td>\n",
       "      <td>Amps_Ic</td>\n",
       "      <td>2021-01-01 00:00:00.647139</td>\n",
       "      <td>0.0</td>\n",
       "      <td>double</td>\n",
       "    </tr>\n",
       "    <tr>\n",
       "      <th>25</th>\n",
       "      <td>H</td>\n",
       "      <td>dtmi:syntheticfactory:feedmachine2;1</td>\n",
       "      <td>Amps_Ia</td>\n",
       "      <td>2021-01-01 00:00:00.754608</td>\n",
       "      <td>0.008923312697616334</td>\n",
       "      <td>double</td>\n",
       "    </tr>\n",
       "    <tr>\n",
       "      <th>26</th>\n",
       "      <td>C</td>\n",
       "      <td>dtmi:syntheticfactory:feedmachine2;1</td>\n",
       "      <td>Amps_Ib</td>\n",
       "      <td>2021-01-01 00:00:00.965840</td>\n",
       "      <td>0.0</td>\n",
       "      <td>double</td>\n",
       "    </tr>\n",
       "    <tr>\n",
       "      <th>27</th>\n",
       "      <td>G</td>\n",
       "      <td>dtmi:syntheticfactory:feedmachine2;1</td>\n",
       "      <td>Amps_Ia</td>\n",
       "      <td>2021-01-01 00:00:00.985358</td>\n",
       "      <td>0.0</td>\n",
       "      <td>double</td>\n",
       "    </tr>\n",
       "    <tr>\n",
       "      <th>28</th>\n",
       "      <td>A</td>\n",
       "      <td>dtmi:syntheticfactory:sourcemachine2;1</td>\n",
       "      <td>Amps_Ia</td>\n",
       "      <td>2021-01-01 00:00:00.990074</td>\n",
       "      <td>0.0</td>\n",
       "      <td>double</td>\n",
       "    </tr>\n",
       "    <tr>\n",
       "      <th>29</th>\n",
       "      <td>F</td>\n",
       "      <td>dtmi:syntheticfactory:feedmachine2;1</td>\n",
       "      <td>Amps_Ic</td>\n",
       "      <td>2021-01-01 00:04:59.336284</td>\n",
       "      <td>0.0</td>\n",
       "      <td>double</td>\n",
       "    </tr>\n",
       "    <tr>\n",
       "      <th>30</th>\n",
       "      <td>D</td>\n",
       "      <td>dtmi:syntheticfactory:feedmachine2;1</td>\n",
       "      <td>Amps_Ic</td>\n",
       "      <td>2021-01-01 00:04:59.697949</td>\n",
       "      <td>0.0</td>\n",
       "      <td>double</td>\n",
       "    </tr>\n",
       "    <tr>\n",
       "      <th>31</th>\n",
       "      <td>C</td>\n",
       "      <td>dtmi:syntheticfactory:feedmachine2;1</td>\n",
       "      <td>Amps_Ic</td>\n",
       "      <td>2021-01-01 00:05:00.408061</td>\n",
       "      <td>0.0</td>\n",
       "      <td>double</td>\n",
       "    </tr>\n",
       "  </tbody>\n",
       "</table>\n",
       "</div>"
      ],
      "text/plain": [
       "   Id                                 ModelId         Key                   Timestamp                 Value  Schema\n",
       "0   I    dtmi:syntheticfactory:feedmachine2;1     Amps_Ic  2020-12-31 23:59:59.106646                   0.0  double\n",
       "1   B  dtmi:syntheticfactory:sourcemachine2;1     Amps_Ib  2020-12-31 23:59:59.147836                   0.0  double\n",
       "2   A  dtmi:syntheticfactory:sourcemachine2;1     Amps_Ic  2020-12-31 23:59:59.179364                   0.0  double\n",
       "3   E    dtmi:syntheticfactory:feedmachine2;1     Amps_Ib  2020-12-31 23:59:59.216322                   0.0  double\n",
       "4   D    dtmi:syntheticfactory:feedmachine2;1     Amps_Ib  2020-12-31 23:59:59.349022                   0.0  double\n",
       "5   A  dtmi:syntheticfactory:sourcemachine2;1     Amps_Ib  2020-12-31 23:59:59.470839                   0.0  double\n",
       "6   B  dtmi:syntheticfactory:sourcemachine2;1  PowerLevel  2020-12-31 23:59:59.514080                  High  string\n",
       "7   I    dtmi:syntheticfactory:feedmachine2;1     Amps_Ia  2020-12-31 23:59:59.525303                   0.0  double\n",
       "8   B  dtmi:syntheticfactory:sourcemachine2;1     Amps_Ia  2020-12-31 23:59:59.584866                   0.0  double\n",
       "9   I    dtmi:syntheticfactory:feedmachine2;1     Amps_Ib  2020-12-31 23:59:59.621948                   0.0  double\n",
       "10  G    dtmi:syntheticfactory:feedmachine2;1     Amps_Ib  2020-12-31 23:59:59.626119                   0.0  double\n",
       "11  G    dtmi:syntheticfactory:feedmachine2;1     Amps_Ic  2020-12-31 23:59:59.676013   0.07923975375846994  double\n",
       "12  A  dtmi:syntheticfactory:sourcemachine2;1  PowerLevel  2020-12-31 23:59:59.737262                   Low  string\n",
       "13  J    dtmi:syntheticfactory:feedmachine2;1     Amps_Ic  2020-12-31 23:59:59.750222                   0.0  double\n",
       "14  B  dtmi:syntheticfactory:sourcemachine2;1     Amps_Ic  2020-12-31 23:59:59.807996                   0.0  double\n",
       "15  H    dtmi:syntheticfactory:feedmachine2;1     Amps_Ib  2020-12-31 23:59:59.865832   0.05330003136365499  double\n",
       "16  H    dtmi:syntheticfactory:feedmachine2;1     Amps_Ic  2020-12-31 23:59:59.964771                   0.0  double\n",
       "17  D    dtmi:syntheticfactory:feedmachine2;1     Amps_Ia  2021-01-01 00:00:00.063728                   0.0  double\n",
       "18  E    dtmi:syntheticfactory:feedmachine2;1     Amps_Ia  2021-01-01 00:00:00.095180                   0.0  double\n",
       "19  F    dtmi:syntheticfactory:feedmachine2;1     Amps_Ia  2021-01-01 00:00:00.158935                   0.0  double\n",
       "20  F    dtmi:syntheticfactory:feedmachine2;1     Amps_Ib  2021-01-01 00:00:00.247246                   0.0  double\n",
       "21  J    dtmi:syntheticfactory:feedmachine2;1     Amps_Ia  2021-01-01 00:00:00.299212                   0.0  double\n",
       "22  J    dtmi:syntheticfactory:feedmachine2;1     Amps_Ib  2021-01-01 00:00:00.335377  0.046948058160921485  double\n",
       "23  C    dtmi:syntheticfactory:feedmachine2;1     Amps_Ia  2021-01-01 00:00:00.379707                   0.0  double\n",
       "24  E    dtmi:syntheticfactory:feedmachine2;1     Amps_Ic  2021-01-01 00:00:00.647139                   0.0  double\n",
       "25  H    dtmi:syntheticfactory:feedmachine2;1     Amps_Ia  2021-01-01 00:00:00.754608  0.008923312697616334  double\n",
       "26  C    dtmi:syntheticfactory:feedmachine2;1     Amps_Ib  2021-01-01 00:00:00.965840                   0.0  double\n",
       "27  G    dtmi:syntheticfactory:feedmachine2;1     Amps_Ia  2021-01-01 00:00:00.985358                   0.0  double\n",
       "28  A  dtmi:syntheticfactory:sourcemachine2;1     Amps_Ia  2021-01-01 00:00:00.990074                   0.0  double\n",
       "29  F    dtmi:syntheticfactory:feedmachine2;1     Amps_Ic  2021-01-01 00:04:59.336284                   0.0  double\n",
       "30  D    dtmi:syntheticfactory:feedmachine2;1     Amps_Ic  2021-01-01 00:04:59.697949                   0.0  double\n",
       "31  C    dtmi:syntheticfactory:feedmachine2;1     Amps_Ic  2021-01-01 00:05:00.408061                   0.0  double"
      ]
     },
     "execution_count": 245,
     "metadata": {},
     "output_type": "execute_result"
    }
   ],
   "source": [
    "df_inittwins.head()"
   ]
  },
  {
   "cell_type": "markdown",
   "metadata": {},
   "source": [
    "We can run each patch update in series:"
   ]
  },
  {
   "cell_type": "code",
   "execution_count": 13,
   "metadata": {},
   "outputs": [
    {
     "name": "stdout",
     "output_type": "stream",
     "text": [
      "Running twin update:0\n",
      "CPU times: total: 297 ms\n",
      "Wall time: 3.97 s\n"
     ]
    }
   ],
   "source": [
    "%%time\n",
    "update_retries = 5\n",
    "for i, row in df_updatetwins[:30].iterrows():\n",
    "        if i%100==0:\n",
    "            print(f\"Running twin update:{i}\")\n",
    "        for try_i in range(update_retries):\n",
    "            try:\n",
    "                twin_id, key, patch = create_patch_update(row)\n",
    "                ADTInstance1.update_digital_twin(twin_id, patch)\n",
    "            except Exception as e:\n",
    "                print(f'{type(e).__name__}: {e}')\n",
    "                traceback.print_exc()\n",
    "                continue\n",
    "            else:\n",
    "                break\n",
    "        else:\n",
    "            print(f'All {update_retries} retries failed for update {i}:{row}')"
   ]
  },
  {
   "cell_type": "markdown",
   "metadata": {},
   "source": [
    "Or using multi-threading:"
   ]
  },
  {
   "cell_type": "code",
   "execution_count": null,
   "metadata": {
    "scrolled": true
   },
   "outputs": [],
   "source": [
    "%%time\n",
    "update_list = df_updatetwins[30:].index.tolist() \n",
    "update_retries = 5\n",
    "arg_max_workers = 20\n",
    "\n",
    "def func_updatepatch(update_i,row):\n",
    "    if update_i%200==0:\n",
    "            print(f\"Running twin update:{update_i}\")\n",
    "    for try_i in range(update_retries):\n",
    "        try:\n",
    "            twin_id, key, patch = create_patch_update(row)\n",
    "            ADTInstance1.update_digital_twin(twin_id, patch)\n",
    "        except Exception as e:\n",
    "            print(f'{type(e).__name__}: {e}')\n",
    "            traceback.print_exc()\n",
    "            continue\n",
    "        else:\n",
    "            break\n",
    "    else:\n",
    "        print(f'All {update_retries} retries failed for update {i}:{row}')\n",
    "\n",
    "def runner():\n",
    "    threads= []\n",
    "    with ThreadPoolExecutor(max_workers=arg_max_workers) as executor:\n",
    "        for update_i in update_list:\n",
    "            threads.append(executor.submit(func_updatepatch, update_i, df_updatetwins.loc[update_i,:]))\n",
    "            \n",
    "        for task in as_completed(threads):\n",
    "            if task.result() is not None:\n",
    "                print(task.result()) \n",
    "            \n",
    "runner()"
   ]
  },
  {
   "cell_type": "markdown",
   "metadata": {},
   "source": [
    "# Further steps using Kusto/ADX\n",
    "\n",
    "With the property updates in ADT now done, we can store them in a Kusto table using ADT's Data History feature. The Data History Connection was set up for the current ADT instance, see details about this feature in its [OneNote page](https://microsoft.sharepoint.com/teams/Azure_IoT/_layouts/OneNote.aspx?id=%2Fteams%2FAzure_IoT%2FSmart%20Buildings%2FNotebook%2FSmart%20Buildings&wd=target%28Areas%20v2%2FData%20History.one%7C992D7290-8337-488D-A011-4D6656CD5C74%2F11%5C%2F17%5C%2F21%20Update%7C61336CDD-A2D4-F149-BF31-833A3E7CFF12%2F%29).\n",
    "\n",
    "Using the Data History table look at it and thereupon run analysis. An example Kusto query is as follows, where `(adt_dh_kaipkiun2DhAdtInstance_westcentralus` is the name of the table created by the Data History connection."
   ]
  },
  {
   "cell_type": "code",
   "execution_count": null,
   "metadata": {},
   "outputs": [],
   "source": [
    "let ADTendpoint = \"https://kaipkiun2DhAdtInstance.api.wcus.digitaltwins.azure.net\";\n",
    "let ADTquery = ```SELECT t.$dtId as tid FROM DIGITALTWINS t where IS_OF_MODEL('dtmi:syntheticfactory:sourcemachine;1')```;\n",
    "evaluate azure_digital_twins_query_request(ADTendpoint, ADTquery)\n",
    "| extend Id = tostring(tid)\n",
    "| join kind=inner (adt_dh_kaipkiun2DhAdtInstance_westcentralus) on Id\n",
    "| project Id, TimeStamp, Key, Value\n",
    "| evaluate bag_unpack(Value)\n",
    "| project sourceTimestamp, Id, Amps_Ia\n",
    "| where Amps_Ia!=\"\"\n",
    "| render timechart \n"
   ]
  },
  {
   "cell_type": "markdown",
   "metadata": {},
   "source": [
    "# END"
   ]
  }
 ],
 "metadata": {
  "interpreter": {
   "hash": "2936ac3574ee52925b25af2ae8f7ee519a46389fdd2047837ffdd3948012244d"
  },
  "kernelspec": {
   "display_name": "Python 3",
   "language": "python",
   "name": "python3"
  },
  "language_info": {
   "codemirror_mode": {
    "name": "ipython",
    "version": 3
   },
   "file_extension": ".py",
   "mimetype": "text/x-python",
   "name": "python",
   "nbconvert_exporter": "python",
   "pygments_lexer": "ipython3",
   "version": "3.7.3"
  },
  "latex_envs": {
   "LaTeX_envs_menu_present": true,
   "autoclose": false,
   "autocomplete": true,
   "bibliofile": "biblio.bib",
   "cite_by": "apalike",
   "current_citInitial": 1,
   "eqLabelWithNumbers": true,
   "eqNumInitial": 1,
   "hotkeys": {
    "equation": "Ctrl-E",
    "itemize": "Ctrl-I"
   },
   "labels_anchors": false,
   "latex_user_defs": false,
   "report_style_numbering": false,
   "user_envs_cfg": false
  },
  "toc": {
   "base_numbering": 1,
   "nav_menu": {},
   "number_sections": true,
   "sideBar": true,
   "skip_h1_title": false,
   "title_cell": "Table of Contents",
   "title_sidebar": "Contents",
   "toc_cell": false,
   "toc_position": {
    "height": "calc(100% - 180px)",
    "left": "10px",
    "top": "150px",
    "width": "222.726px"
   },
   "toc_section_display": true,
   "toc_window_display": true
  },
  "varInspector": {
   "cols": {
    "lenName": 16,
    "lenType": 16,
    "lenVar": 40
   },
   "kernels_config": {
    "python": {
     "delete_cmd_postfix": "",
     "delete_cmd_prefix": "del ",
     "library": "var_list.py",
     "varRefreshCmd": "print(var_dic_list())"
    },
    "r": {
     "delete_cmd_postfix": ") ",
     "delete_cmd_prefix": "rm(",
     "library": "var_list.r",
     "varRefreshCmd": "cat(var_dic_list()) "
    }
   },
   "types_to_exclude": [
    "module",
    "function",
    "builtin_function_or_method",
    "instance",
    "_Feature"
   ],
   "window_display": false
  }
 },
 "nbformat": 4,
 "nbformat_minor": 2
}
